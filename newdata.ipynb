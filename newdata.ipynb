{
 "cells": [
  {
   "cell_type": "markdown",
   "id": "0d79e0e7",
   "metadata": {},
   "source": [
    "### Import data from public source and give the dataframe a name"
   ]
  },
  {
   "cell_type": "code",
   "execution_count": 2,
   "id": "d5a833e3",
   "metadata": {},
   "outputs": [],
   "source": [
    "import pandas as pd\n",
    "df = pd.read_csv('https://www.openml.org/data/get_csv/44')"
   ]
  },
  {
   "cell_type": "markdown",
   "id": "991c6c3e",
   "metadata": {},
   "source": [
    "### Import necessary modules"
   ]
  },
  {
   "cell_type": "code",
   "execution_count": 3,
   "id": "8c0aa7f3",
   "metadata": {},
   "outputs": [],
   "source": [
    "from sklearn.datasets import load_iris\n",
    "from sklearn.linear_model import LogisticRegression\n",
    "from sklearn.svm import SVC\n",
    "from sklearn.preprocessing import StandardScaler\n",
    "from sklearn.datasets import make_classification\n",
    "from sklearn.model_selection import train_test_split\n",
    "from sklearn.pipeline import Pipeline"
   ]
  },
  {
   "cell_type": "markdown",
   "id": "a2b28167",
   "metadata": {},
   "source": [
    "### Create pipeline"
   ]
  },
  {
   "cell_type": "code",
   "execution_count": 4,
   "id": "a1dbb8bd",
   "metadata": {},
   "outputs": [
    {
     "data": {
      "text/plain": [
       "0.92"
      ]
     },
     "execution_count": 4,
     "metadata": {},
     "output_type": "execute_result"
    }
   ],
   "source": [
    "X, y = make_classification(random_state=0)\n",
    "X_train, X_test, y_train, y_test = train_test_split(X, y,\n",
    "                                                    random_state=0)\n",
    "pipe = Pipeline([('scaler', StandardScaler()), ('svc', LogisticRegression())])\n",
    "\n",
    "pipe.fit(X_train, y_train)\n",
    "\n",
    "pipe.score(X_test, y_test)"
   ]
  },
  {
   "cell_type": "markdown",
   "id": "1553891b",
   "metadata": {},
   "source": [
    "### Import pickle module and pickle the model"
   ]
  },
  {
   "cell_type": "code",
   "execution_count": 5,
   "id": "72016291",
   "metadata": {},
   "outputs": [],
   "source": [
    "import pickle\n",
    "\n",
    "with open('df.pickle', 'wb') as f:\n",
    "    pickle.dump(df, f, pickle.HIGHEST_PROTOCOL)\n",
    "    \n",
    "filename = 'model.pkl'\n",
    "pickle.dump(pipe, open(filename, 'wb'))"
   ]
  },
  {
   "cell_type": "markdown",
   "id": "be4d410b",
   "metadata": {},
   "source": [
    "### Part two seperate out two rows"
   ]
  },
  {
   "cell_type": "code",
   "execution_count": 6,
   "id": "26459500",
   "metadata": {},
   "outputs": [
    {
     "data": {
      "text/plain": [
       "[[0.0,\n",
       "  0.64,\n",
       "  0.64,\n",
       "  0.0,\n",
       "  0.32,\n",
       "  0.0,\n",
       "  0.0,\n",
       "  0.0,\n",
       "  0.0,\n",
       "  0.0,\n",
       "  0.0,\n",
       "  0.64,\n",
       "  0.0,\n",
       "  0.0,\n",
       "  0.0,\n",
       "  0.32,\n",
       "  0.0,\n",
       "  1.29,\n",
       "  1.93,\n",
       "  0.0,\n",
       "  0.96,\n",
       "  0.0,\n",
       "  0.0,\n",
       "  0.0,\n",
       "  0.0,\n",
       "  0.0,\n",
       "  0.0,\n",
       "  0.0,\n",
       "  0.0,\n",
       "  0.0,\n",
       "  0.0,\n",
       "  0.0,\n",
       "  0.0,\n",
       "  0.0,\n",
       "  0.0,\n",
       "  0.0,\n",
       "  0.0,\n",
       "  0.0,\n",
       "  0.0,\n",
       "  0.0,\n",
       "  0.0,\n",
       "  0.0,\n",
       "  0.0,\n",
       "  0.0,\n",
       "  0.0,\n",
       "  0.0,\n",
       "  0.0,\n",
       "  0.0,\n",
       "  0.0,\n",
       "  0.0,\n",
       "  0.0,\n",
       "  0.778,\n",
       "  0.0,\n",
       "  0.0,\n",
       "  3.756,\n",
       "  61.0,\n",
       "  278.0,\n",
       "  1.0],\n",
       " [0.21,\n",
       "  0.28,\n",
       "  0.5,\n",
       "  0.0,\n",
       "  0.14,\n",
       "  0.28,\n",
       "  0.21,\n",
       "  0.07,\n",
       "  0.0,\n",
       "  0.94,\n",
       "  0.21,\n",
       "  0.79,\n",
       "  0.65,\n",
       "  0.21,\n",
       "  0.14,\n",
       "  0.14,\n",
       "  0.07,\n",
       "  0.28,\n",
       "  3.47,\n",
       "  0.0,\n",
       "  1.59,\n",
       "  0.0,\n",
       "  0.43,\n",
       "  0.43,\n",
       "  0.0,\n",
       "  0.0,\n",
       "  0.0,\n",
       "  0.0,\n",
       "  0.0,\n",
       "  0.0,\n",
       "  0.0,\n",
       "  0.0,\n",
       "  0.0,\n",
       "  0.0,\n",
       "  0.0,\n",
       "  0.0,\n",
       "  0.07,\n",
       "  0.0,\n",
       "  0.0,\n",
       "  0.0,\n",
       "  0.0,\n",
       "  0.0,\n",
       "  0.0,\n",
       "  0.0,\n",
       "  0.0,\n",
       "  0.0,\n",
       "  0.0,\n",
       "  0.0,\n",
       "  0.0,\n",
       "  0.132,\n",
       "  0.0,\n",
       "  0.372,\n",
       "  0.18,\n",
       "  0.048,\n",
       "  5.114,\n",
       "  101.0,\n",
       "  1028.0,\n",
       "  1.0]]"
      ]
     },
     "execution_count": 6,
     "metadata": {},
     "output_type": "execute_result"
    }
   ],
   "source": [
    "df2 = df.iloc[0:2, :]\n",
    "newdata = df2.values.tolist()\n",
    "newdata"
   ]
  },
  {
   "cell_type": "code",
   "execution_count": 7,
   "id": "f2ea7c1a",
   "metadata": {},
   "outputs": [],
   "source": [
    "import json\n",
    "\n",
    "with open('newdata.py', 'w') as f:\n",
    "    json.dump(newdata, f)"
   ]
  },
  {
   "cell_type": "code",
   "execution_count": 8,
   "id": "44303eb4",
   "metadata": {},
   "outputs": [],
   "source": [
    "import json\n",
    "\n",
    "with open('newdata.py', 'r') as f:\n",
    "    newdata = json.load(f)"
   ]
  }
 ],
 "metadata": {
  "kernelspec": {
   "display_name": "Python 3",
   "language": "python",
   "name": "python3"
  },
  "language_info": {
   "codemirror_mode": {
    "name": "ipython",
    "version": 3
   },
   "file_extension": ".py",
   "mimetype": "text/x-python",
   "name": "python",
   "nbconvert_exporter": "python",
   "pygments_lexer": "ipython3",
   "version": "3.9.2"
  }
 },
 "nbformat": 4,
 "nbformat_minor": 5
}
